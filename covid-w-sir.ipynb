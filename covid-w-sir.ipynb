{
 "cells": [
  {
   "cell_type": "code",
   "execution_count": 190,
   "metadata": {},
   "outputs": [],
   "source": [
    "import numpy as np\n",
    "\n",
    "import pandas as pd\n",
    "from pandas.api.types import CategoricalDtype\n",
    "\n",
    "from sklearn.feature_extraction import DictVectorizer\n",
    "\n",
    "%matplotlib inline\n",
    "import matplotlib.pyplot as plt\n",
    "import seaborn as sns\n",
    "import sklearn.model_selection\n",
    "from sklearn import linear_model as lm\n",
    "import datetime as dt\n"
   ]
  },
  {
   "cell_type": "markdown",
   "metadata": {},
   "source": [
    "# Coronavirus Dataset\n",
    "The coronavirus dataset we are using consists of the data set containing information about each county including its population, the populations' underlying conditions, and other relevant information about its demographics. We are also using the data set containing the most recent number of confirmed cases in the US as of 4/18/20."
   ]
  },
  {
   "cell_type": "code",
   "execution_count": 191,
   "metadata": {},
   "outputs": [],
   "source": [
    "counties = pd.read_csv('abridged_couties.csv')"
   ]
  },
  {
   "cell_type": "code",
   "execution_count": 192,
   "metadata": {},
   "outputs": [],
   "source": [
    "time_confirmed = pd.read_csv('time_series_covid19_confirmed_US.csv')"
   ]
  },
  {
   "cell_type": "markdown",
   "metadata": {},
   "source": [
    "We will only consider counties in the 50 states (stateFIPS 1-56) and will merge both tables based on their countyFIPS. We will also only consider data of confirmed cases from 4/18/20 as the target data for our model."
   ]
  },
  {
   "cell_type": "code",
   "execution_count": 193,
   "metadata": {},
   "outputs": [],
   "source": [
    "# Get only counties from the 50 states\n",
    "counties['STATEFP'] = counties['STATEFP'].fillna(1000)\n",
    "counties = counties[counties['STATEFP'] <= 56]\n",
    "\n",
    "# Get only 4/18/20 data from time_confirmed\n",
    "time_confirmed_recent = time_confirmed[['FIPS','3/11/20', '4/4/20', '4/11/20', '4/18/20']]"
   ]
  },
  {
   "cell_type": "code",
   "execution_count": 194,
   "metadata": {},
   "outputs": [
    {
     "data": {
      "text/html": [
       "<div>\n",
       "<style scoped>\n",
       "    .dataframe tbody tr th:only-of-type {\n",
       "        vertical-align: middle;\n",
       "    }\n",
       "\n",
       "    .dataframe tbody tr th {\n",
       "        vertical-align: top;\n",
       "    }\n",
       "\n",
       "    .dataframe thead th {\n",
       "        text-align: right;\n",
       "    }\n",
       "</style>\n",
       "<table border=\"1\" class=\"dataframe\">\n",
       "  <thead>\n",
       "    <tr style=\"text-align: right;\">\n",
       "      <th></th>\n",
       "      <th>countyFIPS</th>\n",
       "      <th>STATEFP</th>\n",
       "      <th>COUNTYFP</th>\n",
       "      <th>CountyName</th>\n",
       "      <th>StateName</th>\n",
       "      <th>State</th>\n",
       "      <th>lat</th>\n",
       "      <th>lon</th>\n",
       "      <th>POP_LATITUDE</th>\n",
       "      <th>POP_LONGITUDE</th>\n",
       "      <th>...</th>\n",
       "      <th>foreign travel ban</th>\n",
       "      <th>SVIPercentile</th>\n",
       "      <th>HPSAShortage</th>\n",
       "      <th>HPSAServedPop</th>\n",
       "      <th>HPSAUnderservedPop</th>\n",
       "      <th>FIPS</th>\n",
       "      <th>3/11/20</th>\n",
       "      <th>4/4/20</th>\n",
       "      <th>4/11/20</th>\n",
       "      <th>4/18/20</th>\n",
       "    </tr>\n",
       "  </thead>\n",
       "  <tbody>\n",
       "    <tr>\n",
       "      <th>0</th>\n",
       "      <td>1001</td>\n",
       "      <td>1.0</td>\n",
       "      <td>1.0</td>\n",
       "      <td>Autauga</td>\n",
       "      <td>AL</td>\n",
       "      <td>Alabama</td>\n",
       "      <td>32.540091</td>\n",
       "      <td>-86.645649</td>\n",
       "      <td>32.500389</td>\n",
       "      <td>-86.494165</td>\n",
       "      <td>...</td>\n",
       "      <td>737495.0</td>\n",
       "      <td>0.4354</td>\n",
       "      <td>NaN</td>\n",
       "      <td>NaN</td>\n",
       "      <td>NaN</td>\n",
       "      <td>1001.0</td>\n",
       "      <td>0</td>\n",
       "      <td>12</td>\n",
       "      <td>19</td>\n",
       "      <td>25</td>\n",
       "    </tr>\n",
       "    <tr>\n",
       "      <th>1</th>\n",
       "      <td>1003</td>\n",
       "      <td>1.0</td>\n",
       "      <td>3.0</td>\n",
       "      <td>Baldwin</td>\n",
       "      <td>AL</td>\n",
       "      <td>Alabama</td>\n",
       "      <td>30.738314</td>\n",
       "      <td>-87.726272</td>\n",
       "      <td>30.548923</td>\n",
       "      <td>-87.762381</td>\n",
       "      <td>...</td>\n",
       "      <td>737495.0</td>\n",
       "      <td>0.2162</td>\n",
       "      <td>NaN</td>\n",
       "      <td>NaN</td>\n",
       "      <td>NaN</td>\n",
       "      <td>1003.0</td>\n",
       "      <td>0</td>\n",
       "      <td>29</td>\n",
       "      <td>66</td>\n",
       "      <td>109</td>\n",
       "    </tr>\n",
       "    <tr>\n",
       "      <th>2</th>\n",
       "      <td>1005</td>\n",
       "      <td>1.0</td>\n",
       "      <td>5.0</td>\n",
       "      <td>Barbour</td>\n",
       "      <td>AL</td>\n",
       "      <td>Alabama</td>\n",
       "      <td>31.874030</td>\n",
       "      <td>-85.397327</td>\n",
       "      <td>31.844036</td>\n",
       "      <td>-85.310038</td>\n",
       "      <td>...</td>\n",
       "      <td>737495.0</td>\n",
       "      <td>0.9959</td>\n",
       "      <td>6.08</td>\n",
       "      <td>5400.0</td>\n",
       "      <td>18241.0</td>\n",
       "      <td>1005.0</td>\n",
       "      <td>0</td>\n",
       "      <td>2</td>\n",
       "      <td>9</td>\n",
       "      <td>18</td>\n",
       "    </tr>\n",
       "    <tr>\n",
       "      <th>3</th>\n",
       "      <td>1007</td>\n",
       "      <td>1.0</td>\n",
       "      <td>7.0</td>\n",
       "      <td>Bibb</td>\n",
       "      <td>AL</td>\n",
       "      <td>Alabama</td>\n",
       "      <td>32.999024</td>\n",
       "      <td>-87.125260</td>\n",
       "      <td>33.030921</td>\n",
       "      <td>-87.127659</td>\n",
       "      <td>...</td>\n",
       "      <td>737495.0</td>\n",
       "      <td>0.6003</td>\n",
       "      <td>2.75</td>\n",
       "      <td>14980.0</td>\n",
       "      <td>6120.0</td>\n",
       "      <td>1007.0</td>\n",
       "      <td>0</td>\n",
       "      <td>4</td>\n",
       "      <td>13</td>\n",
       "      <td>26</td>\n",
       "    </tr>\n",
       "    <tr>\n",
       "      <th>4</th>\n",
       "      <td>1009</td>\n",
       "      <td>1.0</td>\n",
       "      <td>9.0</td>\n",
       "      <td>Blount</td>\n",
       "      <td>AL</td>\n",
       "      <td>Alabama</td>\n",
       "      <td>33.990440</td>\n",
       "      <td>-86.562711</td>\n",
       "      <td>33.955243</td>\n",
       "      <td>-86.591491</td>\n",
       "      <td>...</td>\n",
       "      <td>737495.0</td>\n",
       "      <td>0.4242</td>\n",
       "      <td>7.21</td>\n",
       "      <td>31850.0</td>\n",
       "      <td>25233.0</td>\n",
       "      <td>1009.0</td>\n",
       "      <td>0</td>\n",
       "      <td>10</td>\n",
       "      <td>12</td>\n",
       "      <td>20</td>\n",
       "    </tr>\n",
       "  </tbody>\n",
       "</table>\n",
       "<p>5 rows × 92 columns</p>\n",
       "</div>"
      ],
      "text/plain": [
       "   countyFIPS  STATEFP  COUNTYFP CountyName StateName    State        lat  \\\n",
       "0        1001      1.0       1.0    Autauga        AL  Alabama  32.540091   \n",
       "1        1003      1.0       3.0    Baldwin        AL  Alabama  30.738314   \n",
       "2        1005      1.0       5.0    Barbour        AL  Alabama  31.874030   \n",
       "3        1007      1.0       7.0       Bibb        AL  Alabama  32.999024   \n",
       "4        1009      1.0       9.0     Blount        AL  Alabama  33.990440   \n",
       "\n",
       "         lon  POP_LATITUDE  POP_LONGITUDE  ... foreign travel ban  \\\n",
       "0 -86.645649     32.500389     -86.494165  ...           737495.0   \n",
       "1 -87.726272     30.548923     -87.762381  ...           737495.0   \n",
       "2 -85.397327     31.844036     -85.310038  ...           737495.0   \n",
       "3 -87.125260     33.030921     -87.127659  ...           737495.0   \n",
       "4 -86.562711     33.955243     -86.591491  ...           737495.0   \n",
       "\n",
       "  SVIPercentile  HPSAShortage  HPSAServedPop  HPSAUnderservedPop    FIPS  \\\n",
       "0        0.4354           NaN            NaN                 NaN  1001.0   \n",
       "1        0.2162           NaN            NaN                 NaN  1003.0   \n",
       "2        0.9959          6.08         5400.0             18241.0  1005.0   \n",
       "3        0.6003          2.75        14980.0              6120.0  1007.0   \n",
       "4        0.4242          7.21        31850.0             25233.0  1009.0   \n",
       "\n",
       "   3/11/20  4/4/20  4/11/20  4/18/20  \n",
       "0        0      12       19       25  \n",
       "1        0      29       66      109  \n",
       "2        0       2        9       18  \n",
       "3        0       4       13       26  \n",
       "4        0      10       12       20  \n",
       "\n",
       "[5 rows x 92 columns]"
      ]
     },
     "execution_count": 194,
     "metadata": {},
     "output_type": "execute_result"
    }
   ],
   "source": [
    "# Merge tables based on countyFIPS\n",
    "counties['countyFIPS'] = counties['countyFIPS'].astype(int) # convert from type object to int\n",
    "counties_data = counties.merge(time_confirmed_recent, how='inner', left_on='countyFIPS', right_on='FIPS')\n",
    "counties_data.head(5)"
   ]
  },
  {
   "cell_type": "markdown",
   "metadata": {},
   "source": [
    "Rename 4/18/20 column to \"Cases\". Add weekly and monthly growth. "
   ]
  },
  {
   "cell_type": "code",
   "execution_count": 195,
   "metadata": {},
   "outputs": [],
   "source": [
    "counties_data['Weekly'] = counties_data[\"4/11/20\"] - counties_data[\"4/4/20\"]\n",
    "counties_data['Monthly'] = counties_data[\"4/11/20\"] - counties_data[\"3/11/20\"]\n",
    "counties_data = counties_data.rename(columns={\"4/18/20\": 'Cases'})"
   ]
  },
  {
   "cell_type": "markdown",
   "metadata": {},
   "source": [
    "We will split the data into training and test sets."
   ]
  },
  {
   "cell_type": "code",
   "execution_count": 196,
   "metadata": {},
   "outputs": [
    {
     "name": "stdout",
     "output_type": "stream",
     "text": [
      "Train: (2198, 94) Test: (942, 94)\n"
     ]
    }
   ],
   "source": [
    "training_data, test_data = sklearn.model_selection.train_test_split(counties_data, train_size = 0.7, test_size = 0.3, random_state=42)\n",
    "print('Train:', training_data.shape, 'Test:', test_data.shape)"
   ]
  },
  {
   "cell_type": "markdown",
   "metadata": {},
   "source": [
    "# Exploratory Data Analysis\n",
    "\n",
    "We begin by examining a distribution plot of the number of coronavirus cases."
   ]
  },
  {
   "cell_type": "code",
   "execution_count": 197,
   "metadata": {},
   "outputs": [
    {
     "data": {
      "text/plain": [
       "<matplotlib.axes._subplots.AxesSubplot at 0x7fae37a8ded0>"
      ]
     },
     "execution_count": 197,
     "metadata": {},
     "output_type": "execute_result"
    },
    {
     "data": {
      "image/png": "[encoded data removed]",
      "text/plain": [
       "<Figure size 432x288 with 2 Axes>"
      ]
     },
     "metadata": {
      "needs_background": "light"
     },
     "output_type": "display_data"
    },
    {
     "data": {
      "text/plain": [
       "<Figure size 720x432 with 0 Axes>"
      ]
     },
     "metadata": {},
     "output_type": "display_data"
    }
   ],
   "source": [
    "fig, axs = plt.subplots(nrows=2)\n",
    "plt.figure(figsize = (10, 6))\n",
    "\n",
    "sns.distplot(\n",
    "    training_data['Cases'], \n",
    "    ax=axs[0]\n",
    ")\n",
    "sns.boxplot(\n",
    "    training_data['Cases'],\n",
    "    width=0.3, \n",
    "    ax=axs[1],\n",
    "    showfliers=False,\n",
    ")"
   ]
  },
  {
   "cell_type": "markdown",
   "metadata": {},
   "source": [
    "The distribution plot shows that the data has numerous clear outliers. Based on the box plot, we see that a majority of the cases are between around 2 and 55 coronavirus cases in the counties. \n",
    "\n",
    "For this model, we will remove outliers from the data since outliers of counties that have significantly higher number of cases than other counties, such as New York, to make our visualizations clear and our model more accurate. We will remove counties with more than 10,000 cases."
   ]
  },
  {
   "cell_type": "code",
   "execution_count": 198,
   "metadata": {},
   "outputs": [],
   "source": [
    "def remove_outliers(data, variable, lower=-np.inf, upper=np.inf):  \n",
    "    return data[(data[variable] < upper) & (data[variable] > lower)]\n",
    "\n",
    "training_data = remove_outliers(training_data, 'Cases', upper=10000)"
   ]
  },
  {
   "cell_type": "markdown",
   "metadata": {},
   "source": [
    "### Number of Cases vs Rural-Urban Continuum Code 2013\n",
    "\n",
    "Next, we visualize the association between '# cases' and 'Rural-Urban Continuum Code 2013'. The code is a form of classification that \"distinguishes metropolitan counties by the size of their metro area, and nonmetropolitan counties by the degree of urbanization and adjacency to a metro area or areas\" (SEER Datasets)."
   ]
  },
  {
   "cell_type": "code",
   "execution_count": 199,
   "metadata": {},
   "outputs": [
    {
     "data": {
      "image/png": "[encoded data removed]",
      "text/plain": [
       "<Figure size 720x576 with 1 Axes>"
      ]
     },
     "metadata": {
      "needs_background": "light"
     },
     "output_type": "display_data"
    }
   ],
   "source": [
    "plt.figure(figsize = (10, 8))\n",
    "sns.boxplot(x = 'Rural-UrbanContinuumCode2013', y = 'Cases', data = training_data)\n",
    "plt.title('Distribution of Cases for Rural-Urban Continuum Code 2013');"
   ]
  },
  {
   "cell_type": "markdown",
   "metadata": {},
   "source": [
    "The boxplot shows that there is an association between population size/seclusion and the number of cases. Urban counties with high population size and low seclusion have more cases than rural counties with low population size and high seclusion."
   ]
  },
  {
   "cell_type": "markdown",
   "metadata": {},
   "source": [
    "### Population Estimate 2018 vs. # of Cases\n",
    "\n",
    "We visualize the association between the population of the counties and the number of cases in each county."
   ]
  },
  {
   "cell_type": "code",
   "execution_count": 200,
   "metadata": {},
   "outputs": [
    {
     "data": {
      "image/png": "[encoded data removed]",
      "text/plain": [
       "<Figure size 432x288 with 1 Axes>"
      ]
     },
     "metadata": {
      "needs_background": "light"
     },
     "output_type": "display_data"
    }
   ],
   "source": [
    "sns.regplot(x='PopulationEstimate2018', \n",
    "    y='Cases', \n",
    "    data=training_data,)\n",
    "plt.title('Association Between Population and Number of COVID-19 Cases');"
   ]
  },
  {
   "cell_type": "markdown",
   "metadata": {},
   "source": [
    "There seems to be a slight linear association between the two variables, though there are sparsely scattered outliers in the data. "
   ]
  },
  {
   "cell_type": "markdown",
   "metadata": {},
   "source": [
    "# Modeling"
   ]
  },
  {
   "cell_type": "markdown",
   "metadata": {},
   "source": [
    "Using the data from 4/11/20 and earlier, we will fit a linear regression to predict the number of cases a week later, 4/18/20, which we can compare against actual data from 4/18/20. "
   ]
  },
  {
   "cell_type": "code",
   "execution_count": 201,
   "metadata": {},
   "outputs": [],
   "source": [
    "def select_columns(data, *columns):\n",
    "    \"\"\"Select only columns passed as arguments.\"\"\"\n",
    "    return data.loc[:, columns]\n",
    "\n",
    "def rmse(predicted, actual):\n",
    "    \"\"\"\n",
    "    Calculates RMSE from actual and predicted values\n",
    "    Input:\n",
    "      predicted (1D array): vector of predicted/fitted values\n",
    "      actual (1D array): vector of actual values\n",
    "    Output:\n",
    "      a float, the root-mean square error\n",
    "    \"\"\"\n",
    "    return np.sqrt(np.mean((actual - predicted)**2))"
   ]
  },
  {
   "cell_type": "code",
   "execution_count": 202,
   "metadata": {},
   "outputs": [],
   "source": [
    "def process_data(data):\n",
    "    \"\"\"Process the data for a guided model.\"\"\"\n",
    "\n",
    "#     data = data.fillna({'stay at home':0})\n",
    "#     data = data.fillna({'HeartDiseaseMortality':0})\n",
    "#     data = data.fillna({'MedicareEnrollment,AgedTot2017': 0})\n",
    "    data = data.fillna(0)\n",
    "    \n",
    "#     features = counties_data.columns[12:]\n",
    "#     data = data[features]\n",
    "    # Transform Data, Select Features\n",
    "    data = select_columns(data, 'Cases',\n",
    "                          'PopulationEstimate2018',\n",
    "                          'Rural-UrbanContinuumCode2013',\n",
    "                          'DiabetesPercentage',\n",
    "                          'Smokers_Percentage',\n",
    "                          'stay at home',\n",
    "                          'RespMortalityRate2014',\n",
    "#                           '#FTEHospitalTotal2017',\n",
    "#                           '#ICU_beds',\n",
    "                          'PopMale>842010',\n",
    "                          'PopFmle>842010',\n",
    "#                           'PopFmle75-842010',\n",
    "#                           'PopMale75-842010',\n",
    "                          'MedicareEnrollment,AgedTot2017',\n",
    "                          'MedianAge2010',\n",
    "#                           'PopulationDensityperSqMile2010',\n",
    "#                           'StrokeMortality',\n",
    "                          '4/11/20',\n",
    "                          '3/11/20',\n",
    "                          'Weekly',\n",
    "                          'Monthly'\n",
    "                         )\n",
    "\n",
    "    # Return predictors and response variables separately\n",
    "    X = data.drop(['Cases'], axis = 1)\n",
    "    y = data.loc[:, 'Cases']\n",
    "    \n",
    "    return X, y"
   ]
  },
  {
   "cell_type": "code",
   "execution_count": 203,
   "metadata": {},
   "outputs": [],
   "source": [
    "x_train, y_train = process_data(training_data)\n",
    "x_test, y_test = process_data(test_data)"
   ]
  },
  {
   "cell_type": "code",
   "execution_count": 204,
   "metadata": {},
   "outputs": [
    {
     "data": {
      "text/plain": [
       "LinearRegression(copy_X=True, fit_intercept=True, n_jobs=None, normalize=False)"
      ]
     },
     "execution_count": 204,
     "metadata": {},
     "output_type": "execute_result"
    }
   ],
   "source": [
    "model = lm.LinearRegression(fit_intercept=True)\n",
    "model.fit(x_train, y_train)"
   ]
  },
  {
   "cell_type": "code",
   "execution_count": 205,
   "metadata": {},
   "outputs": [],
   "source": [
    "y_predicted_train = model.predict(x_train)\n",
    "y_predicted_test = model.predict(x_test)"
   ]
  },
  {
   "cell_type": "code",
   "execution_count": 206,
   "metadata": {},
   "outputs": [
    {
     "data": {
      "text/plain": [
       "(54.11119031785855, 93.63497089889627)"
      ]
     },
     "execution_count": 206,
     "metadata": {},
     "output_type": "execute_result"
    }
   ],
   "source": [
    "training_rmse = rmse(y_predicted_train, y_train)\n",
    "test_rmse = rmse(y_predicted_test, y_test)\n",
    "training_rmse, test_rmse"
   ]
  },
  {
   "cell_type": "code",
   "execution_count": 207,
   "metadata": {},
   "outputs": [
    {
     "data": {
      "image/png": "[encoded data removed]",
      "text/plain": [
       "<Figure size 432x288 with 1 Axes>"
      ]
     },
     "metadata": {
      "needs_background": "light"
     },
     "output_type": "display_data"
    }
   ],
   "source": [
    "residuals = y_test - y_predicted_test\n",
    "ax = sns.regplot(y_test, residuals)\n",
    "\n",
    "ax.set_xlabel('Number of Cases (Test Data)')\n",
    "ax.set_ylabel('Residuals (Actual Number of Cases - Predicted Number of Cases)')\n",
    "ax.set_title(\"Residuals vs. Number of Cases on Test Data\");"
   ]
  },
  {
   "cell_type": "markdown",
   "metadata": {},
   "source": [
    "The residuals seem to be relatively randomly scattered both above and below the regression line, except for a few sparse outliers."
   ]
  },
  {
   "cell_type": "markdown",
   "metadata": {},
   "source": [
    "Two features that significantly improved our predictions were 'Weekly' and 'Monthly' growth."
   ]
  },
  {
   "cell_type": "code",
   "execution_count": 208,
   "metadata": {},
   "outputs": [
    {
     "data": {
      "image/png": "[encoded data removed]",
      "text/plain": [
       "<Figure size 432x288 with 1 Axes>"
      ]
     },
     "metadata": {
      "needs_background": "light"
     },
     "output_type": "display_data"
    }
   ],
   "source": [
    "sns.regplot(x='Weekly', \n",
    "    y='Cases', \n",
    "    data=training_data,)\n",
    "plt.title('Association Between Weekly Growth and Number of COVID-19 Cases');"
   ]
  },
  {
   "cell_type": "code",
   "execution_count": 209,
   "metadata": {},
   "outputs": [
    {
     "data": {
      "image/png": "[encoded data removed]",
      "text/plain": [
       "<Figure size 432x288 with 1 Axes>"
      ]
     },
     "metadata": {
      "needs_background": "light"
     },
     "output_type": "display_data"
    }
   ],
   "source": [
    "sns.regplot(x='Monthly', \n",
    "    y='Cases', \n",
    "    data=training_data,)\n",
    "plt.title('Association Between Montly Growth and Number of COVID-19 Cases');"
   ]
  },
  {
   "cell_type": "markdown",
   "metadata": {},
   "source": [
    "We see from the two plots that there is a strong relation between the two growths and the number of COVID-19 cases."
   ]
  },
  {
   "cell_type": "markdown",
   "metadata": {},
   "source": [
    "# Further Analysis: SIR"
   ]
  },
  {
   "cell_type": "markdown",
   "metadata": {},
   "source": [
    "For funsies, we tried an SIR model too! We began with a start date of 4/11/20 and ended with 4/18 to predicted the number infected cases in each county.\n",
    "\n",
    "Since we do not have the data on the number of recovered individuals, we began with 0 recovered individuals. We used a contact rate based on outside research of 0.21 and if the county implemented a stay at home policy, we would set the contact rate to .12 and we used a recovery rate of .070186 by dividing the total number of recovered cases by the total number of confirmed cases in the US."
   ]
  },
  {
   "cell_type": "code",
   "execution_count": 218,
   "metadata": {},
   "outputs": [],
   "source": [
    "sir_counties = counties.copy()\n",
    "ordinal_times = sir_counties.iloc[:, 75: -4].columns"
   ]
  },
  {
   "cell_type": "code",
   "execution_count": 219,
   "metadata": {},
   "outputs": [],
   "source": [
    "for t in ordinal_times:\n",
    "    sir_counties[t] = sir_counties[t].fillna(0).astype(int).apply(lambda x: pd.datetime.fromordinal(x) if x >= 1 else np.nan)\n",
    "    "
   ]
  },
  {
   "cell_type": "markdown",
   "metadata": {},
   "source": [
    "We will only consider counties in the 50 states (stateFIPS 1-56) and will merge both tables based on their countyFIPS. We will also only consider data of confirmed cases from 4/18/20."
   ]
  },
  {
   "cell_type": "code",
   "execution_count": 220,
   "metadata": {},
   "outputs": [],
   "source": [
    "\n",
    "# Get only counties from the 50 states\n",
    "sir_counties['STATEFP'] = sir_counties['STATEFP'].fillna(1000)\n",
    "sir_counties = sir_counties[sir_counties['STATEFP'] <= 56]\n",
    "\n",
    "# Get only 4/18/20 data from time_confirmed\n",
    "# time_confirmed_recent = time_confirmed[['FIPS', '4/16/20',  '4/17/20', '4/18/20']]"
   ]
  },
  {
   "cell_type": "code",
   "execution_count": 221,
   "metadata": {},
   "outputs": [],
   "source": [
    "# Merge tables based on countyFIPS\n",
    "sir_counties['countyFIPS'] = sir_counties['countyFIPS'].astype(int) # convert from type object to int\n",
    "sir_counties_data = sir_counties.merge(time_confirmed, how='inner', left_on='countyFIPS', right_on='FIPS')\n",
    "\n",
    "#Get rid of line: may be missing certain counties because of lack of statefip, countyfp etc, will do reflection"
   ]
  },
  {
   "cell_type": "code",
   "execution_count": 222,
   "metadata": {},
   "outputs": [],
   "source": [
    "import numpy as np\n",
    "from scipy.integrate import odeint\n",
    "import matplotlib.pyplot as plt\n",
    "results = []\n",
    "\n",
    "def deriv(y, t, N, beta, gamma):\n",
    "    S, I, R = y\n",
    "    dSdt = -beta * S * I / N\n",
    "    dIdt = beta * S * I / N - gamma * I\n",
    "    dRdt = gamma * I\n",
    "    return dSdt, dIdt, dRdt\n",
    "\n",
    "for _, row in sir_counties_data.iterrows():\n",
    "    # Total population, N in county\n",
    "    N = row['PopulationEstimate2018']\n",
    "    # Initial number of infected and recovered individuals, I0 and R0.\n",
    "    I0, R0 = row['4/11/20'], 0\n",
    "    # Everyone else, S0, is susceptible to infection initially.\n",
    "    S0 = N - I0 - R0\n",
    "    # Contact rate, beta, and mean recovery rate, gamma, (in 1/days).\n",
    "    beta = .21 # contact rate based on researched data\n",
    "    startdate = dt.datetime(2020, 4, 11)\n",
    "    if row['stay at home'] and row['stay at home'] < startdate:\n",
    "        beta = .1205\n",
    "    gamma = .070186 # recovery rate is number of total recovered / number of total confirmed cases in the US\n",
    "    # A grid of time points (in days)\n",
    "    t = np.linspace(0, 8, 8)\n",
    "    y0 = S0, I0, R0\n",
    "    # Integrate the SIR equations over the time grid, t.\n",
    "    ret = odeint(deriv, y0, t, args=(N, beta, gamma))\n",
    "    S, I, R = ret.T\n",
    "    results.append(I)"
   ]
  },
  {
   "cell_type": "code",
   "execution_count": 223,
   "metadata": {},
   "outputs": [],
   "source": [
    "df = pd.DataFrame(results).rename(columns={0:'4/11/20', 1:'4/12/20', 2:'4/13/20', 3:'4/14/20', 4:'4/15/20', \n",
    "                                           5:'4/16/20', 6:'4/17/20',  7:'Predicted 4/18/20'})\n",
    "df['Actual # Cases'] = sir_counties_data['4/18/20']"
   ]
  },
  {
   "cell_type": "code",
   "execution_count": 224,
   "metadata": {},
   "outputs": [
    {
     "data": {
      "text/plain": [
       "162.9620476874091"
      ]
     },
     "execution_count": 224,
     "metadata": {},
     "output_type": "execute_result"
    }
   ],
   "source": [
    "rmse(df['Predicted 4/18/20'], df['Actual # Cases'])"
   ]
  },
  {
   "cell_type": "markdown",
   "metadata": {},
   "source": [
    "Though the rmse is higher than that of the linear regression, this may be because we had no county-level data on recovery rate, and the contact rates may be slightly inaccurate. We also do not consider other underlying factors. "
   ]
  },
  {
   "cell_type": "code",
   "execution_count": 231,
   "metadata": {},
   "outputs": [
    {
     "data": {
      "text/plain": [
       "(-5000, 7500)"
      ]
     },
     "execution_count": 231,
     "metadata": {},
     "output_type": "execute_result"
    },
    {
     "data": {
      "image/png": "[encoded data removed]",
      "text/plain": [
       "<Figure size 432x288 with 1 Axes>"
      ]
     },
     "metadata": {
      "needs_background": "light"
     },
     "output_type": "display_data"
    }
   ],
   "source": [
    "residuals = df['Predicted 4/18/20'] - df['Actual # Cases']\n",
    "ax = sns.regplot(df['Actual # Cases'], residuals)\n",
    "\n",
    "ax.set_xlabel('Number of Cases (Test Data)')\n",
    "ax.set_ylabel('Residuals (Actual Number of Cases - Predicted Number of Cases)')\n",
    "ax.set_title(\"Residuals vs. Number of Cases on Test Data\");\n",
    "plt.xlim(0,40000)\n",
    "plt.ylim(-5000,7500)"
   ]
  },
  {
   "cell_type": "markdown",
   "metadata": {},
   "source": [
    "Despite the greater rmse, the residuals are more randomly scattered and thus, in the future, if further analysis was considered, we would consider advancing our SIR model with more features."
   ]
  },
  {
   "cell_type": "code",
   "execution_count": null,
   "metadata": {},
   "outputs": [],
   "source": []
  }
 ],
 "metadata": {
  "kernelspec": {
   "display_name": "Python 3",
   "language": "python",
   "name": "python3"
  },
  "language_info": {
   "codemirror_mode": {
    "name": "ipython",
    "version": 3
   },
   "file_extension": ".py",
   "mimetype": "text/x-python",
   "name": "python",
   "nbconvert_exporter": "python",
   "pygments_lexer": "ipython3",
   "version": "3.7.6"
  }
 },
 "nbformat": 4,
 "nbformat_minor": 4
}
